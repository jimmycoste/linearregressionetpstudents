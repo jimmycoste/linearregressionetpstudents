{
 "cells": [
  {
   "cell_type": "markdown",
   "id": "527e52a5-6f90-4e9c-af39-777d67243f75",
   "metadata": {},
   "source": [
    " # **Proyección al año escolar 2028-2029 con Regresión Lineal**\n",
    " \n",
    "## Objetivo: Proyectar la  matrícula estudiantil de la educación técnico profesional para los años 2023 al 2027."
   ]
  },
  {
   "cell_type": "markdown",
   "id": "f5af821f-7a59-4685-bca5-1e6cb95c9806",
   "metadata": {
    "tags": []
   },
   "source": [
    "Esto es un pronóstico propuesto basado en las informaciones que tenemos a la mano, palpables y concretas, con un enfoque de proyección basado en regresión lineal.\n",
    "\n",
    "Se desconocen factores como próximas solicitudes de apertura de nuevos títulos o nuevas solicitudes de conversión de centros de la Modalidad Académica a la Educación Técnico Profesional, salvo en 4to grado del 2023, una potencial matrícula adicional de 1,426 estudiantes por la creación de 64 secciones nuevas.\n",
    "\n",
    "En el año 2020-2021 se abrieron con cierta timidez algunas secciones en 4to grado debido a la pandemia. Otras secciones fueron siendo cerradas debido a la falta de maestros para impartir docencia. Esto no se evidencio inmediatamente debido a que se hizo una promoción general al final del año escolar 2019-2020.\n",
    "\n",
    "Para realizar los análisis científicos y las visualizaciones de datos, se utilizaron las siguientes herramientas, programas, lenguajes y librerías:\n",
    "Python, Anaconda, JupyterLab, Pandas, Matplotlib, Seaborn y scikit-learn.\n",
    "\n",
    "Para la realización de este estudio, los años escolares se toma el año de inicio como año base.\n",
    "Ejemplo:\n",
    "2018-2019, año base 2018,\n",
    "2019-2020, año base 2019,\n",
    "etc.\n",
    "\n",
    " 2 de septiembre 2023.\n",
    " Jimmy R. Coste Yost, Tecnología y Ciencia de datos.\n",
    " Dirección de Educación Téncico Profesional.\n",
    " Ministerio de Educación.\n",
    " República Dominicana."
   ]
  },
  {
   "cell_type": "markdown",
   "id": "b2cb6c47-45b6-49a1-8c5a-90b972633adb",
   "metadata": {},
   "source": [
    "### Paso 0. Importar librerias\n",
    "Importar las bibliotecas necesarias, como pandas y scikit-learn."
   ]
  },
  {
   "cell_type": "code",
   "execution_count": 4,
   "id": "cca440d7-aab9-4329-8e79-e05d0c3a838a",
   "metadata": {},
   "outputs": [],
   "source": [
    "import pandas as pd\n",
    "from sklearn.linear_model import LinearRegression\n",
    "import numpy as np\n",
    "import seaborn as sns\n",
    "import matplotlib.pyplot as plt"
   ]
  },
  {
   "cell_type": "markdown",
   "id": "9666b78f-db41-4997-a75c-9b880f093b4e",
   "metadata": {},
   "source": [
    "### Paso 1. Obtención y Preparación de datos\n",
    "Crear un DataFrame con los datos proporcionados de la matrícula por año, y añado los datos de proyección al modelo"
   ]
  },
  {
   "cell_type": "code",
   "execution_count": 6,
   "id": "8f876ff6-4f91-4d47-ae68-5602fd6ff126",
   "metadata": {
    "tags": []
   },
   "outputs": [
    {
     "data": {
      "text/html": [
       "<div>\n",
       "<style scoped>\n",
       "    .dataframe tbody tr th:only-of-type {\n",
       "        vertical-align: middle;\n",
       "    }\n",
       "\n",
       "    .dataframe tbody tr th {\n",
       "        vertical-align: top;\n",
       "    }\n",
       "\n",
       "    .dataframe thead th {\n",
       "        text-align: right;\n",
       "    }\n",
       "</style>\n",
       "<table border=\"1\" class=\"dataframe\">\n",
       "  <thead>\n",
       "    <tr style=\"text-align: right;\">\n",
       "      <th></th>\n",
       "      <th>Año base</th>\n",
       "      <th>Matrícula</th>\n",
       "    </tr>\n",
       "  </thead>\n",
       "  <tbody>\n",
       "    <tr>\n",
       "      <th>0</th>\n",
       "      <td>2018</td>\n",
       "      <td>71169</td>\n",
       "    </tr>\n",
       "    <tr>\n",
       "      <th>1</th>\n",
       "      <td>2019</td>\n",
       "      <td>84316</td>\n",
       "    </tr>\n",
       "    <tr>\n",
       "      <th>2</th>\n",
       "      <td>2020</td>\n",
       "      <td>91880</td>\n",
       "    </tr>\n",
       "    <tr>\n",
       "      <th>3</th>\n",
       "      <td>2021</td>\n",
       "      <td>89682</td>\n",
       "    </tr>\n",
       "    <tr>\n",
       "      <th>4</th>\n",
       "      <td>2022</td>\n",
       "      <td>89165</td>\n",
       "    </tr>\n",
       "  </tbody>\n",
       "</table>\n",
       "</div>"
      ],
      "text/plain": [
       "   Año base  Matrícula\n",
       "0      2018      71169\n",
       "1      2019      84316\n",
       "2      2020      91880\n",
       "3      2021      89682\n",
       "4      2022      89165"
      ]
     },
     "execution_count": 6,
     "metadata": {},
     "output_type": "execute_result"
    }
   ],
   "source": [
    "data = {'Año base': [2018, 2019, 2020, 2021, 2022],\n",
    "        'Matrícula': [71169, 84316, 91880, 89682, 89165]}\n",
    "etpmatdf = pd.DataFrame(data)\n",
    "etpmatdf"
   ]
  },
  {
   "cell_type": "markdown",
   "id": "01c365d8-322c-4cd0-bccd-8528a4f955ac",
   "metadata": {},
   "source": [
    "### Paso 2 Analisis de datos para la Regresión lineal\n",
    "\n",
    "Realizar un análisis exploratorio de datos para comprender mejor la tendencia de la matrícula en años anteriores.\n",
    "Ajustar un modelo de regresión lineal a los datos históricos.\n",
    "Utilizar el modelo ajustado para hacer la proyección para los años 2023 al 2027."
   ]
  },
  {
   "cell_type": "code",
   "execution_count": 8,
   "id": "18403de8-83fa-4fec-bbef-d49b08cb3357",
   "metadata": {
    "tags": []
   },
   "outputs": [
    {
     "data": {
      "text/plain": [
       "LinearRegression()"
      ]
     },
     "execution_count": 8,
     "metadata": {},
     "output_type": "execute_result"
    }
   ],
   "source": [
    "# Ajusta un modelo de regresión lineal:\n",
    "X = etpmatdf['Año base'].values.reshape(-1, 1)\n",
    "y = etpmatdf['Matrícula'].values\n",
    "\n",
    "modelo_regresion = LinearRegression()\n",
    "modelo_regresion.fit(X, y)"
   ]
  },
  {
   "cell_type": "markdown",
   "id": "50fde6d5-8057-4ca1-9b3f-21dd2187ab77",
   "metadata": {},
   "source": [
    "Proyecta la matrícula para los años 2023 al 2028 utilizando el modelo de regresión:"
   ]
  },
  {
   "cell_type": "code",
   "execution_count": 10,
   "id": "88329e34-83aa-42eb-aeda-13df4658a4fa",
   "metadata": {
    "tags": []
   },
   "outputs": [],
   "source": [
    "años_proyeccion = list(range(2023, 2029))\n",
    "matricula_proyectada = modelo_regresion.predict([[año] for año in años_proyeccion])\n"
   ]
  },
  {
   "cell_type": "markdown",
   "id": "b80a31db-be9c-4ca4-85d2-41ccc774dbfe",
   "metadata": {},
   "source": [
    "Sumar 1,426 estudiantes potenciales que se añaden a la proyección del 2023"
   ]
  },
  {
   "cell_type": "code",
   "execution_count": 12,
   "id": "c17d10c6-d8c5-46fb-ab8b-74035d6f6016",
   "metadata": {
    "tags": []
   },
   "outputs": [],
   "source": [
    "# Sumar la potencial matrícula de 1,426 estudiantes en 2023 a la proyección\n",
    "matricula_proyectada[0] += 1426"
   ]
  },
  {
   "cell_type": "markdown",
   "id": "5edb2c04-8b49-4477-97a9-cfdfa71ea4e8",
   "metadata": {},
   "source": [
    "Con esta modificación, la proyección para el año 2023 ahora incluye la potencial matrícula de 1,426 estudiantes sumada al valor proyectado por el modelo de regresión lineal. Esto aporta una proyección ajustada que refleja el aumento esperado de estudiantes en 2023."
   ]
  },
  {
   "cell_type": "markdown",
   "id": "aacce2f0-cc7a-4bf4-a49d-c67a7819e3b5",
   "metadata": {},
   "source": [
    "Ahora creo un DataFrame con la proyección ajustada"
   ]
  },
  {
   "cell_type": "code",
   "execution_count": 15,
   "id": "f09e70a8-08c2-488a-8ba3-76a8f4c0b2a9",
   "metadata": {
    "tags": []
   },
   "outputs": [
    {
     "data": {
      "text/html": [
       "<div>\n",
       "<style scoped>\n",
       "    .dataframe tbody tr th:only-of-type {\n",
       "        vertical-align: middle;\n",
       "    }\n",
       "\n",
       "    .dataframe tbody tr th {\n",
       "        vertical-align: top;\n",
       "    }\n",
       "\n",
       "    .dataframe thead th {\n",
       "        text-align: right;\n",
       "    }\n",
       "</style>\n",
       "<table border=\"1\" class=\"dataframe\">\n",
       "  <thead>\n",
       "    <tr style=\"text-align: right;\">\n",
       "      <th></th>\n",
       "      <th>Año base</th>\n",
       "      <th>Matrícula</th>\n",
       "    </tr>\n",
       "  </thead>\n",
       "  <tbody>\n",
       "    <tr>\n",
       "      <th>0</th>\n",
       "      <td>2023</td>\n",
       "      <td>99075.8</td>\n",
       "    </tr>\n",
       "    <tr>\n",
       "      <th>1</th>\n",
       "      <td>2024</td>\n",
       "      <td>101785.6</td>\n",
       "    </tr>\n",
       "    <tr>\n",
       "      <th>2</th>\n",
       "      <td>2025</td>\n",
       "      <td>105921.4</td>\n",
       "    </tr>\n",
       "    <tr>\n",
       "      <th>3</th>\n",
       "      <td>2026</td>\n",
       "      <td>110057.2</td>\n",
       "    </tr>\n",
       "    <tr>\n",
       "      <th>4</th>\n",
       "      <td>2027</td>\n",
       "      <td>114193.0</td>\n",
       "    </tr>\n",
       "    <tr>\n",
       "      <th>5</th>\n",
       "      <td>2028</td>\n",
       "      <td>118328.8</td>\n",
       "    </tr>\n",
       "  </tbody>\n",
       "</table>\n",
       "</div>"
      ],
      "text/plain": [
       "   Año base  Matrícula\n",
       "0      2023    99075.8\n",
       "1      2024   101785.6\n",
       "2      2025   105921.4\n",
       "3      2026   110057.2\n",
       "4      2027   114193.0\n",
       "5      2028   118328.8"
      ]
     },
     "execution_count": 15,
     "metadata": {},
     "output_type": "execute_result"
    }
   ],
   "source": [
    "proyeccion_df = pd.DataFrame({'Año base': años_proyeccion, 'Matrícula': matricula_proyectada})\n",
    "proyeccion_df"
   ]
  },
  {
   "cell_type": "markdown",
   "id": "35bf7e69-47cd-467d-beb7-313fbd1eae61",
   "metadata": {},
   "source": [
    "Me dispongo a crear un único DataFrame llamado datos_completos, que combina los datos históricos y la proyección. Luego, trazo ambos conjuntos de datos en el mismo gráfico de Seaborn."
   ]
  },
  {
   "cell_type": "code",
   "execution_count": 17,
   "id": "dd063777-64cd-46e9-866b-ad4bc939b9ad",
   "metadata": {
    "tags": []
   },
   "outputs": [
    {
     "name": "stdout",
     "output_type": "stream",
     "text": [
      "<class 'pandas.core.frame.DataFrame'>\n",
      "RangeIndex: 11 entries, 0 to 10\n",
      "Data columns (total 2 columns):\n",
      " #   Column     Non-Null Count  Dtype  \n",
      "---  ------     --------------  -----  \n",
      " 0   Año base   11 non-null     int64  \n",
      " 1   Matrícula  11 non-null     float64\n",
      "dtypes: float64(1), int64(1)\n",
      "memory usage: 304.0 bytes\n"
     ]
    }
   ],
   "source": [
    "# Unir los datos históricos con la proyección en un solo DataFrame\n",
    "datos_completos = pd.concat([etpmatdf, proyeccion_df[proyeccion_df['Año base'] > 2022]], ignore_index=True)\n",
    "datos_completos.info()"
   ]
  },
  {
   "cell_type": "markdown",
   "id": "dae99af5-9299-49a1-b830-a2a1dbb5f1bf",
   "metadata": {},
   "source": [
    "### Paso 3 Visualiza la proyección de la matrícula:"
   ]
  },
  {
   "cell_type": "markdown",
   "id": "d05a98da-cbc4-48bc-9baf-bb44c233a104",
   "metadata": {},
   "source": [
    "Este código utiliza Seaborn para crear un gráfico de línea con puntos para la proyección de matrícula y etiqueta los puntos con los valores correspondientes. "
   ]
  },
  {
   "cell_type": "code",
   "execution_count": 20,
   "id": "3b76cdf5-f8e8-4c87-8880-3b37f39e579b",
   "metadata": {
    "tags": []
   },
   "outputs": [
    {
     "data": {
      "image/png": "[encoded data removed]",
      "text/plain": [
       "<Figure size 864x432 with 1 Axes>"
      ]
     },
     "metadata": {
      "needs_background": "light"
     },
     "output_type": "display_data"
    }
   ],
   "source": [
    "# Formatear los valores de Matrícula con separadores de miles en la tabla\n",
    "pd.options.display.float_format = '{:,.0f}'.format\n",
    "# Visualizar la matrícula histórica y proyectada con Seaborn\n",
    "plt.figure(figsize=(12, 6))\n",
    "sns.set_style(\"whitegrid\")\n",
    "# Utilizar un gráfico de línea con puntos para la proyección y los años históricos\n",
    "sns.lineplot(x='Año base', y='Matrícula', data=datos_completos, marker='o', label='Histórico y Proyección')\n",
    "# Agregar etiquetas de valor en los puntos\n",
    "for x, y in zip(datos_completos['Año base'], datos_completos['Matrícula']):\n",
    "    plt.text(x, y, f'{int(y):,}', ha='left', va='bottom', fontsize=10, color='blue')\n",
    "# Establecer el límite del eje X para mostrar años pares e impares\n",
    "plt.xticks(datos_completos['Año base'], rotation=45)\n",
    "# Añadir una línea de tendencia (regresión lineal)\n",
    "sns.regplot(x='Año base', y='Matrícula', data=datos_completos, scatter=False, color='red', label='Línea de Tendencia')\n",
    "plt.xlabel('Año')\n",
    "plt.ylabel('Matrícula Estudiantil')\n",
    "plt.title('Histórico y Proyección de Matrícula Estudiantil de la ETP (2018-2028) - Regresión Lineal')\n",
    "plt.legend()\n",
    "plt.tight_layout()\n",
    "plt.show()"
   ]
  },
  {
   "cell_type": "code",
   "execution_count": 33,
   "id": "f98f7635-ccd6-472b-badb-6c3497a140fb",
   "metadata": {},
   "outputs": [
    {
     "data": {
      "text/html": [
       "<div>\n",
       "<style scoped>\n",
       "    .dataframe tbody tr th:only-of-type {\n",
       "        vertical-align: middle;\n",
       "    }\n",
       "\n",
       "    .dataframe tbody tr th {\n",
       "        vertical-align: top;\n",
       "    }\n",
       "\n",
       "    .dataframe thead th {\n",
       "        text-align: right;\n",
       "    }\n",
       "</style>\n",
       "<table border=\"1\" class=\"dataframe\">\n",
       "  <thead>\n",
       "    <tr style=\"text-align: right;\">\n",
       "      <th></th>\n",
       "      <th>Año base</th>\n",
       "      <th>Matrícula</th>\n",
       "    </tr>\n",
       "  </thead>\n",
       "  <tbody>\n",
       "    <tr>\n",
       "      <th>0</th>\n",
       "      <td>2018</td>\n",
       "      <td>71,169</td>\n",
       "    </tr>\n",
       "    <tr>\n",
       "      <th>1</th>\n",
       "      <td>2019</td>\n",
       "      <td>84,316</td>\n",
       "    </tr>\n",
       "    <tr>\n",
       "      <th>2</th>\n",
       "      <td>2020</td>\n",
       "      <td>91,880</td>\n",
       "    </tr>\n",
       "    <tr>\n",
       "      <th>3</th>\n",
       "      <td>2021</td>\n",
       "      <td>89,682</td>\n",
       "    </tr>\n",
       "    <tr>\n",
       "      <th>4</th>\n",
       "      <td>2022</td>\n",
       "      <td>89,165</td>\n",
       "    </tr>\n",
       "    <tr>\n",
       "      <th>5</th>\n",
       "      <td>2023</td>\n",
       "      <td>99,076</td>\n",
       "    </tr>\n",
       "    <tr>\n",
       "      <th>6</th>\n",
       "      <td>2024</td>\n",
       "      <td>101,786</td>\n",
       "    </tr>\n",
       "    <tr>\n",
       "      <th>7</th>\n",
       "      <td>2025</td>\n",
       "      <td>105,921</td>\n",
       "    </tr>\n",
       "    <tr>\n",
       "      <th>8</th>\n",
       "      <td>2026</td>\n",
       "      <td>110,057</td>\n",
       "    </tr>\n",
       "    <tr>\n",
       "      <th>9</th>\n",
       "      <td>2027</td>\n",
       "      <td>114,193</td>\n",
       "    </tr>\n",
       "    <tr>\n",
       "      <th>10</th>\n",
       "      <td>2028</td>\n",
       "      <td>118,329</td>\n",
       "    </tr>\n",
       "  </tbody>\n",
       "</table>\n",
       "</div>"
      ],
      "text/plain": [
       "    Año base  Matrícula\n",
       "0       2018     71,169\n",
       "1       2019     84,316\n",
       "2       2020     91,880\n",
       "3       2021     89,682\n",
       "4       2022     89,165\n",
       "5       2023     99,076\n",
       "6       2024    101,786\n",
       "7       2025    105,921\n",
       "8       2026    110,057\n",
       "9       2027    114,193\n",
       "10      2028    118,329"
      ]
     },
     "execution_count": 33,
     "metadata": {},
     "output_type": "execute_result"
    }
   ],
   "source": [
    "datos_completos"
   ]
  },
  {
   "cell_type": "markdown",
   "id": "48910800-f98e-44e1-9a6f-e5528ce95222",
   "metadata": {},
   "source": [
    "## Conclusiones\n",
    "\n",
    "Segun se aprecia, se prevee un incremento gradual en la matrícula, tomando en cuenta las politicas de Fortalecimeinto y Mejoramiento de la Educación Técnico Profesional (ETP) de la actual gestión gubernamental.\n",
    "\n",
    "Se aprecia como de 2018 a 2020 hubo un gran incremento por las políticas de expansión, pero este brusco crecimiento generó un efecto rebote negativo por varias razones:\n",
    "\n",
    "- La pandemia del COVID-19 generó un detenimiento total en la posible variación positiva de la cantidad de secciones.\n",
    "- La apertura de secciones e inclusión de nuevos títulos y conversiones masivas de centros entre el 2017-2020, sin nombramientos de maestros técnicos, equipamientos a los talleres, ni acompañamiento constante a estos nuevos equipos de gestión, generaron:\n",
    "\n",
    "       - baja calidad de los aprendizajes en los estudiantes, \n",
    "       - problemas de liderazgo en la gestión de los centros educativos y \n",
    "       - una retardada adopción de la cultura de la Educación Técnico Profesional en estos.\n",
    "\n",
    "Por lo que vemos como la matrícula fue descendiendo a la vez que fueron mermando la cantidad de secciones por grado en los centros de la ETP. Algunos, en centros que tenían poco de haber abierto estas secciones.\n",
    "\n",
    "Esta regresión lineal podría sugerir un incremento similar en los años siguientes del 2023 al 2028, pero esta estadística presenta una probabilidad, que podría no concretarse, dado que las politicas actuales no son de expansión, sino de Fortalecimiento. \n",
    "\n",
    "Si es el caso que llegan a construirse nuevos politécnicos, con nombramiento de maestros técnicos por concurso, el equipamientos de los talleres y la debida orientación con el acompañamiento constante a estos nuevos equipos de gestión para fortalecer el liderazgo en los centros, alienados a la cultura de la ETP, es probable que estos numeros aumenten como sugiere la regresión lineal, pero con buenos niveles de calidad y pertinencia en lso aprendizajes de lso estudiantes."
   ]
  },
  {
   "cell_type": "markdown",
   "id": "ea9dbf7e-da77-456e-9f41-57db29a92246",
   "metadata": {},
   "source": [
    "## Sobre el estudio\n",
    "Este enfoque utiliza la regresión lineal para encontrar una relación lineal entre el año y la matrícula estudiantil, y luego utiliza el modelo ajustado para proyectar la matrícula para los años futuros. Ten en cuenta que la elección del método de proyección depende de la naturaleza de los datos y las suposiciones subyacentes, por lo que es importante evaluar la idoneidad de cada método para tu conjunto de datos específico."
   ]
  },
  {
   "cell_type": "markdown",
   "id": "7e960461-b700-45ef-8759-ebcb7c9fb6b8",
   "metadata": {},
   "source": [
    "Para realizar los análisis científicos y las visualizaciones de datos en el ejemplo anterior, se utilizaron las siguientes herramientas, programas, lenguajes y librerías:\n",
    "\n",
    "1. Python: Lenguaje de programación utilizado para realizar el análisis de datos y la visualización.\n",
    "2. Anaconda: Una plataforma de distribución de Python que incluye un entorno de desarrollo integrado (IDE) llamado Anaconda Navigator. Anaconda simplifica la gestión de paquetes y entornos virtuales, lo que la hace muy popular en la comunidad de ciencia de datos.\n",
    "3. JupyterLab: Un entorno de desarrollo interactivo que se utiliza comúnmente para análisis de datos y programación en Python. Permite la ejecución interactiva de celdas de código.\n",
    "4. Pandas: Una librería de Python para el análisis y manipulación de datos. Se usa para cargar y manipular datos tabulares, como DataFrames.\n",
    "5. Matplotlib: Una librería de visualización de datos en Python. Se utilizó para crear gráficos de líneas que representan los datos históricos y la proyección.\n",
    "6. Seaborn: Otra librería de visualización de datos en Python que se usa para crear gráficos más estilizados y personalizables. En el ejemplo, se empleó Seaborn para mostrar los datos históricos y la proyección de manera más atractiva.\n",
    "7. scikit-learn: Una librería de Python para el aprendizaje automático y el análisis de datos. En el ejemplo, se utilizó para ajustar un modelo de regresión lineal a los datos históricos y realizar proyecciones basadas en ese modelo.\n",
    "\n",
    "\n",
    "### Científico de datos:\n",
    "Jimmy R. Coste Yost. Tecnología y Ciencia de datos, para la Dirección de Educación Técnico Profesional. Nivel Secundario. Ministerio de educación de la República Dominicana.\n",
    "jimmy.coste@minerd.gob.do\n",
    "\n",
    "2 de Septiembre 2023."
   ]
  },
  {
   "cell_type": "code",
   "execution_count": null,
   "id": "a4448d96-ff8c-4a8e-b250-f36a00130400",
   "metadata": {},
   "outputs": [],
   "source": []
  }
 ],
 "metadata": {
  "kernelspec": {
   "display_name": "anaconda-2022.05-py39",
   "language": "python",
   "name": "conda-env-anaconda-2022.05-py39-py"
  },
  "language_info": {
   "codemirror_mode": {
    "name": "ipython",
    "version": 3
   },
   "file_extension": ".py",
   "mimetype": "text/x-python",
   "name": "python",
   "nbconvert_exporter": "python",
   "pygments_lexer": "ipython3",
   "version": "3.9.12"
  }
 },
 "nbformat": 4,
 "nbformat_minor": 5
}
